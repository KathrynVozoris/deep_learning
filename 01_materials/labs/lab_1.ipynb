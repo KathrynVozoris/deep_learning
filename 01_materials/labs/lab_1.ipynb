{
 "cells": [
  {
   "cell_type": "markdown",
   "metadata": {},
   "source": [
    "# Training Neural Networks with Keras\n",
    "\n",
    "Welcome to the first practical session of the course! In this session, we will learn how to train neural networks with Keras. We will start with a simple example of a feedforward neural network for classification and then we will study the impact of the initialization of the weights on the convergence of the training algorithm.\n",
    "\n",
    "Keras is a high-level neural network API, built on top of TensorFlow 2.0. It provides a user-friendly interface to build, train and deploy deep learning models. Keras is designed to be modular, fast and easy to use.\n",
    "\n",
    "Throughout this course, we will focus on using Keras and TensorFlow for building and training neural networks. However, there are other popular deep learning frameworks such as PyTorch, MXNet, CNTK, etc. that you can also use to build and train neural networks.\n",
    "\n",
    "In order to use our code on Google Colab, we will need to ensure that any required packages are installed. We will use the following packages in this session:\n",
    "\n",
    "- `tensorflow`: an open-source library for numerical computation and large-scale machine learning.\n",
    "- `matplotlib`: a plotting library for the Python programming language and its numerical mathematics extension NumPy.\n",
    "- `numpy`: a library for scientific computing in Python.\n",
    "- `scikit-learn`: a machine learning library for the Python programming language.\n",
    "- `pandas`: a library providing high-performance, easy-to-use data structures and data analysis tools for the Python programming language.\n",
    "\n",
    "The following cell will check if the packages are installed, and if not, it will install them. Students familiar with how pip works might note that it already checks this before installing! The reason for this code (which will also appear in subsequent notebooks) is to speed up execution if you re-run the entire notebook - it will skip the installation step if the packages are already installed."
   ]
  },
  {
   "cell_type": "markdown",
   "metadata": {
    "collapsed": false
   },
   "source": [
    "With the packages installed, we can now get started on the practical session!\n",
    "\n",
    "Today, we will be working with the famous MNIST dataset. MNIST (Modified National Institute of Standards and Technology) is a database of low resolution images of handwritten digits. The history here is interesting - the dataset was originally created in the 1980s, when researchers from the aforementioned institute collected samples from American Census Bureau employees and high school students. The dataset was then modified in the 1990s (hence the M in MNIST), and has since become a popular benchmark for machine learning algorithms. \n",
    "\n",
    "The dataset contains images, each of which is a 28x28 grayscale image of a handwritten digit. The goal is to classify each image into one of the 10 possible classes (0-9).\n",
    "\n",
    "![MNIST](https://upload.wikimedia.org/wikipedia/commons/2/27/MnistExamples.png)\n",
    "\n",
    "The Scikit-Learn library provides a convenient function to download and load the MNIST dataset. The following cell will download the dataset. Then we will take a look at the shape of the data."
   ]
  },
  {
   "cell_type": "code",
   "execution_count": 45,
   "metadata": {},
   "outputs": [],
   "source": [
    "import matplotlib.pyplot as plt\n",
    "import numpy as np\n",
    "\n",
    "from sklearn.datasets import load_digits\n",
    "\n",
    "digits = load_digits()"
   ]
  },
  {
   "cell_type": "code",
   "execution_count": 46,
   "metadata": {},
   "outputs": [
    {
     "data": {
      "text/plain": [
       "(1797, 8, 8)"
      ]
     },
     "execution_count": 46,
     "metadata": {},
     "output_type": "execute_result"
    }
   ],
   "source": [
    "digits.images.shape\n",
    "# 1797 number of images\n",
    "# 8 x 8 pixels"
   ]
  },
  {
   "cell_type": "markdown",
   "metadata": {
    "collapsed": false
   },
   "source": [
    "This means that we have 1797 images, each of which is a 8x8 image. For basic image processing, we will need to flatten the images into a 1D array. In this case, Scikit-Learn has already provided the data in this format too:"
   ]
  },
  {
   "cell_type": "code",
   "execution_count": 47,
   "metadata": {},
   "outputs": [
    {
     "data": {
      "text/plain": [
       "(1797, 64)"
      ]
     },
     "execution_count": 47,
     "metadata": {},
     "output_type": "execute_result"
    }
   ],
   "source": [
    "digits.data.shape\n",
    "# grey scales of the image 64, as it has 8x8 pixels"
   ]
  },
  {
   "cell_type": "markdown",
   "metadata": {
    "collapsed": false
   },
   "source": [
    "For each image, we also have the corresponding label (or target, or class) in `digits.target`:"
   ]
  },
  {
   "cell_type": "code",
   "execution_count": 48,
   "metadata": {},
   "outputs": [
    {
     "data": {
      "text/plain": [
       "(1797,)"
      ]
     },
     "execution_count": 48,
     "metadata": {},
     "output_type": "execute_result"
    }
   ],
   "source": [
    "digits.target.shape\n",
    "# the shape of the targets is also 1797"
   ]
  },
  {
   "cell_type": "markdown",
   "metadata": {
    "collapsed": false
   },
   "source": [
    "We can take a look at some random images from the dataset. The following cell will select 9 random images and plot them in a 3x3 grid (meaning that you can rerun the cell to see different images)."
   ]
  },
  {
   "cell_type": "code",
   "execution_count": 6,
   "metadata": {},
   "outputs": [
    {
     "data": {
      "image/png": "[encoded data removed]",
      "text/plain": [
       "<Figure size 600x600 with 9 Axes>"
      ]
     },
     "metadata": {},
     "output_type": "display_data"
    }
   ],
   "source": [
    "# Selecting 9 random indices\n",
    "random_indices = np.random.choice(len(digits.images), 9, replace=False)\n",
    "\n",
    "# Creating a 3x3 grid plot\n",
    "fig, axes = plt.subplots(3, 3, figsize=(6, 6))\n",
    "\n",
    "for i, ax in enumerate(axes.flat):\n",
    "    ax.imshow(digits.images[random_indices[i]], cmap=plt.cm.gray_r, interpolation='nearest')\n",
    "    ax.set_title(f\"Label: {digits.target[random_indices[i]]}\")\n",
    "\n",
    "    # Removing axis labels\n",
    "    ax.set_xticks([])\n",
    "    ax.set_yticks([])\n",
    "\n",
    "plt.show()"
   ]
  },
  {
   "cell_type": "markdown",
   "metadata": {
    "collapsed": false
   },
   "source": [
    "As you can see, these images are very low resolution. This is because they were originally scanned from paper forms, and then scaled down to 8x8 pixels. This is a common problem in machine learning - the quality of the data is often a limiting factor in the performance of the model. In this case, the low resolution of the images makes it difficult to distinguish between some digits, even for humans. For example, the following images are all labelled as 9, but they look very different:"
   ]
  },
  {
   "cell_type": "code",
   "execution_count": 49,
   "metadata": {
    "collapsed": false
   },
   "outputs": [
    {
     "data": {
      "image/png": "[encoded data removed]",
      "text/plain": [
       "<Figure size 600x600 with 9 Axes>"
      ]
     },
     "metadata": {},
     "output_type": "display_data"
    }
   ],
   "source": [
    "# Selecting 9 random indices of images labelled as 9\n",
    "random_indices = np.random.choice(np.where(digits.target == 9)[0], 9, replace=False)\n",
    "\n",
    "# Creating a 3x3 grid plot\n",
    "fig, axes = plt.subplots(3, 3, figsize=(6, 6))\n",
    "\n",
    "for i, ax in enumerate(axes.flat):\n",
    "    ax.imshow(digits.images[random_indices[i]], cmap=plt.cm.gray_r, interpolation='nearest')\n",
    "    ax.set_title(f\"Label: {digits.target[random_indices[i]]}\")\n",
    "\n",
    "    # Removing axis labels\n",
    "    ax.set_xticks([])\n",
    "    ax.set_yticks([])\n",
    "    \n",
    "plt.show()"
   ]
  },
  {
   "cell_type": "markdown",
   "metadata": {
    "collapsed": false
   },
   "source": [
    "While we are plotting the samples as images, remember that our model is only going to see a 1D array of numbers. "
   ]
  },
  {
   "cell_type": "markdown",
   "metadata": {},
   "source": [
    "## Train / Test Split\n",
    "\n",
    "In order to understand how well our model performs on _new_ data, we need to split our dataset into a training set and a test set. The training set will be used to train the model, and the test set will be used to evaluate the performance of the model.\n",
    "\n",
    "Let's keep some held-out data to be able to measure the generalization performance of our model. "
   ]
  },
  {
   "cell_type": "code",
   "execution_count": 50,
   "metadata": {},
   "outputs": [],
   "source": [
    "from sklearn.model_selection import train_test_split\n",
    "\n",
    "\n",
    "X_train, X_test, y_train, y_test = train_test_split(\n",
    "    digits.data, \n",
    "    digits.target,\n",
    "    test_size=0.2, # 20% of the data is used for testing\n",
    "    random_state=42 # Providing a value here means getting the same \"random\" split every time\n",
    ")"
   ]
  },
  {
   "cell_type": "markdown",
   "metadata": {
    "collapsed": false
   },
   "source": [
    "Let's confirm that the data has been split correctly:"
   ]
  },
  {
   "cell_type": "code",
   "execution_count": 51,
   "metadata": {
    "collapsed": false
   },
   "outputs": [
    {
     "name": "stdout",
     "output_type": "stream",
     "text": [
      "X_train shape: (1437, 64)\n",
      "y_train shape: (1437,)\n",
      "X_test shape: (360, 64)\n",
      "y_test shape: (360,)\n"
     ]
    }
   ],
   "source": [
    "print(f'X_train shape: {X_train.shape}')\n",
    "print(f'y_train shape: {y_train.shape}')\n",
    "print(f'X_test shape: {X_test.shape}')\n",
    "print(f'y_test shape: {y_test.shape}')"
   ]
  },
  {
   "cell_type": "markdown",
   "metadata": {
    "collapsed": false
   },
   "source": [
    "This is what we expected to see. It's always good to check as you go, to make sure that you haven't made a mistake somewhere - this is something that working in a notebook like this makes it easy to do."
   ]
  },
  {
   "cell_type": "markdown",
   "metadata": {},
   "source": [
    "## Preprocessing of the Target Data\n",
    "\n",
    "The labels that we have are integers between 0 and 9. However, we want to train a neural network to classify the images into one of 10 classes. It can be a little counter-intuitive because we are dealing with numbers, but our classes are not ordinal.\n",
    "\n",
    "What do we mean by that? Let's imagine we were trying to predict the height of a building (separated into classes) from images. If a given building was actually 10m tall, and our model predicted 9m, we would consider that to be a better prediction than if it predicted 1m. This is because the classes are ordinal - there is meaning in the difference between the classes.\n",
    "\n",
    "In our case, even though we are dealing with numbers, the classes are not ordinal. If a given image is actually a 9, and our model predicts 8, we would consider that to be just as bad as if it predicted 1. This is because the classes are not ordered, and the difference between the classes is not meaningful.\n",
    "\n",
    "Because of this, we need to convert our labels from an integer value into a one-hot encoded vector. This means that each label will be represented as a vector of length 10, with a 1 in the position corresponding to the class, and 0s everywhere else. For example, the label 9 would be represented as `[0, 0, 0, 0, 0, 0, 0, 0, 0, 1]`. This is a common way of representing categorical data in machine learning. By doing this, we ensure that our model is taught the correct relationship between the classes."
   ]
  },
  {
   "cell_type": "code",
   "execution_count": 52,
   "metadata": {},
   "outputs": [
    {
     "name": "stdout",
     "output_type": "stream",
     "text": [
      "Before one-hot encoding: 6\n",
      "After one-hot encoding: [0. 0. 0. 0. 0. 0. 1. 0. 0. 0.]\n"
     ]
    }
   ],
   "source": [
    "from tensorflow.keras.utils import to_categorical\n",
    "\n",
    "print(f'Before one-hot encoding: {y_train[0]}')\n",
    "y_train = to_categorical(y_train, num_classes=10)\n",
    "y_test = to_categorical(y_test, num_classes=10)\n",
    "print(f'After one-hot encoding: {y_train[0]}')"
   ]
  },
  {
   "cell_type": "markdown",
   "metadata": {},
   "source": [
    "## Feed Forward Neural Networks with Keras\n",
    "\n",
    "Now that we have prepared our data, it's time to build a simple neural network! In this section, we will use the Keras API to build a simple feed forward neural network. We will then train the model on the MNIST dataset, and evaluate its performance on the test set.\n",
    "\n",
    "In most modern deep learning frameworks, the process of building a model can be broken down into a few steps:\n",
    "\n",
    "- Define the model architecture: this is where we define the layers of the model, and how they are connected to each other.\n",
    "- Compile the model: this is where we define the loss function, the optimizer, and the metrics that we want to use to evaluate the model.\n",
    "- Train the model: this is where we train the model on the training data.\n",
    "\n",
    "Let's start with defining the model architecture. There are two ways to do this in Keras - the Sequential API and the Functional API. The Sequential API is the simplest way to build a model, and is suitable for most use cases. The Functional API is more flexible, and allows you to build more complex models. We will start with the Sequential API, and then we will look at the Functional API later in the course.\n",
    "\n",
    "Our simple neural network will be \"fully-connected\". This means that each neuron in a given layer is connected to every neuron in the next layer. This is also known as a \"dense\" layer. We will use the `Dense` class from Keras to define our layers."
   ]
  },
  {
   "cell_type": "code",
   "execution_count": 53,
   "metadata": {
    "collapsed": false
   },
   "outputs": [
    {
     "name": "stdout",
     "output_type": "stream",
     "text": [
      "Model: \"sequential\"\n",
      "_________________________________________________________________\n",
      " Layer (type)                Output Shape              Param #   \n",
      "=================================================================\n",
      " dense (Dense)               (None, 64)                4160      \n",
      "                                                                 \n",
      " dense_1 (Dense)             (None, 64)                4160      \n",
      "                                                                 \n",
      " dense_2 (Dense)             (None, 10)                650       \n",
      "                                                                 \n",
      "=================================================================\n",
      "Total params: 8,970\n",
      "Trainable params: 8,970\n",
      "Non-trainable params: 0\n",
      "_________________________________________________________________\n"
     ]
    }
   ],
   "source": [
    "from tensorflow.keras.models import Sequential\n",
    "from tensorflow.keras.layers import Dense\n",
    "\n",
    "model = Sequential()\n",
    "\n",
    "# activation functions -- relu, or softmax \n",
    "# defining computation graph\n",
    "\n",
    "# Input layer\n",
    "model.add(Dense(64, activation='relu', input_shape=(64,))) # 64 neurons, ReLU activation, input shape of 64\n",
    "\n",
    "# Hidden layer\n",
    "model.add(Dense(64, activation='relu')) # 64 neurons, ReLU activation\n",
    "\n",
    "# Output layer\n",
    "model.add(Dense(10, activation='softmax')) # 10 neurons, softmax activation\n",
    "\n",
    "model.summary()"
   ]
  },
  {
   "cell_type": "markdown",
   "metadata": {
    "collapsed": false
   },
   "source": [
    "Congratulations! You have just built your first neural network with Keras. As we can confirm from the `model.summary()` output, our model has 3 layers. The first layer has 64 neurons, the second layer has 64 neurons, and the output layer has 10 neurons. The output layer uses the softmax activation function, which is commonly used for multi-class classification problems. The other layers use the ReLU activation function, which is commonly used for hidden layers in neural networks.\n",
    "\n",
    "Next, we need to compile the model. This is where we define the loss function, the optimizer, and the metrics that we want to use to evaluate the model. We will use the `compile` method of the model to do this."
   ]
  },
  {
   "cell_type": "code",
   "execution_count": 54,
   "metadata": {
    "collapsed": false
   },
   "outputs": [],
   "source": [
    "# loss --calculating what we need to optimize\n",
    "# optimizer-- how we're going to optimize, there are different types of optimizers\n",
    "# sgd -- 'standard stochastic gradient descent algorithm' (a simple optimizer)\n",
    "# metrics -- how well data performs on raw data set\n",
    "# accuracy -- fraction of samples that are correctly classified\n",
    "\n",
    "model.compile(\n",
    "    loss='categorical_crossentropy', # Loss function\n",
    "    optimizer='sgd', # Optimizer\n",
    "    metrics=['accuracy'] # Metrics to evaluate the model\n",
    ")"
   ]
  },
  {
   "cell_type": "markdown",
   "metadata": {
    "collapsed": false
   },
   "source": [
    "Because we are predicting which class a sample belongs to, we will use the `categorical_crossentropy` function. This loss function is commonly used for multi-class classification problems. \n",
    "\n",
    "For our optimizer, we are using the standard stochastic gradient descent (SGD) algorithm. This is a simple optimizer that works well for many problems. We will look at more advanced optimizers later in the course.\n",
    "\n",
    "Finally, we are using the `accuracy` metric to evaluate the model. This is a common metric for classification problems, and it is simply the fraction of samples that are correctly classified. This is an easier metric for us to understand, but it's not quite as useful for actually training the model (for example, it doesn't tell us how \"confident\" the model is in its predictions).\n",
    "\n",
    "Now that we have (a) defined the model architecture and (b) compiled the model, we are ready to train the model. We will use the `fit` method of the model to do this."
   ]
  },
  {
   "cell_type": "code",
   "execution_count": 55,
   "metadata": {
    "collapsed": false
   },
   "outputs": [
    {
     "name": "stdout",
     "output_type": "stream",
     "text": [
      "Epoch 1/5\n",
      "36/36 [==============================] - 1s 9ms/step - loss: 1.3908 - accuracy: 0.5875 - val_loss: 0.6771 - val_accuracy: 0.8021\n",
      "Epoch 2/5\n",
      "36/36 [==============================] - 0s 3ms/step - loss: 0.4585 - accuracy: 0.8555 - val_loss: 0.4698 - val_accuracy: 0.8576\n",
      "Epoch 3/5\n",
      "36/36 [==============================] - 0s 3ms/step - loss: 0.3053 - accuracy: 0.9104 - val_loss: 0.3619 - val_accuracy: 0.8819\n",
      "Epoch 4/5\n",
      "36/36 [==============================] - 0s 3ms/step - loss: 0.2221 - accuracy: 0.9356 - val_loss: 0.3037 - val_accuracy: 0.8854\n",
      "Epoch 5/5\n",
      "36/36 [==============================] - 0s 2ms/step - loss: 0.1773 - accuracy: 0.9539 - val_loss: 0.2918 - val_accuracy: 0.9062\n"
     ]
    },
    {
     "data": {
      "text/plain": [
       "<keras.callbacks.History at 0x22f19b81f10>"
      ]
     },
     "execution_count": 55,
     "metadata": {},
     "output_type": "execute_result"
    }
   ],
   "source": [
    "# using subsets of data to train the model\n",
    "# epoch means that you are going over the entire data set\n",
    "# one loop is called one epoch\n",
    "# We run with a batch of 32, multiple batches 5 times\n",
    "# validation_split -- splitting training data, holding out some data for validation\n",
    "\n",
    "model.fit(\n",
    "    X_train, # Training data\n",
    "    y_train, # Training labels\n",
    "    epochs=5, # Number of epochs\n",
    "    batch_size=32, # Number of samples per batch\n",
    "    validation_split=0.2 # Use 20% of the data for validation\n",
    ")"
   ]
  },
  {
   "cell_type": "markdown",
   "metadata": {
    "collapsed": false
   },
   "source": [
    "We have now trained our model! We can see that the model has been trained for 5 epochs, and the loss and accuracy have been printed for each epoch. We can also see that the model has been evaluated on the validation data at the end of each epoch. This is useful for us to see how the model is performing on data that it hasn't seen during training.\n",
    "\n",
    "Once the model is trained, it's time to evaluate the model on the test set. We can use the `evaluate` method of the model to do this. If you were building a model for a real-world application, this is the very last thing you would do, and the result here would be the figure you'd report in your paper or presentation."
   ]
  },
  {
   "cell_type": "code",
   "execution_count": 56,
   "metadata": {
    "collapsed": false
   },
   "outputs": [
    {
     "name": "stdout",
     "output_type": "stream",
     "text": [
      "12/12 [==============================] - 0s 2ms/step - loss: 0.2316 - accuracy: 0.9222\n",
      "Loss:     0.23\n",
      "Accuracy: 92.22%\n"
     ]
    }
   ],
   "source": [
    "loss, accuracy = model.evaluate(X_test, y_test)\n",
    "\n",
    "print(f'Loss:     {loss:.2f}')\n",
    "print(f'Accuracy: {accuracy*100:.2f}%')"
   ]
  },
  {
   "cell_type": "markdown",
   "metadata": {
    "collapsed": false
   },
   "source": [
    "Hopefully you have achieved an accuracy of around 95%. This is pretty good, but we can do better! In the next section, we will look at how we can improve the performance of our model by using a more advanced optimizer. But before we get there, let's do one other thing - let's look at the predictions that our model is making on the test set. When you are building a model, it's often useful to have a look at some of the examples your model is getting wrong. Sometimes this can reveal problems with the data, or it can give you ideas for how to improve your model."
   ]
  },
  {
   "cell_type": "code",
   "execution_count": 57,
   "metadata": {
    "collapsed": false
   },
   "outputs": [
    {
     "name": "stdout",
     "output_type": "stream",
     "text": [
      "12/12 [==============================] - 0s 1ms/step\n"
     ]
    },
    {
     "data": {
      "image/png": "[encoded data removed]",
      "text/plain": [
       "<Figure size 600x600 with 9 Axes>"
      ]
     },
     "metadata": {},
     "output_type": "display_data"
    }
   ],
   "source": [
    "# Get the predictions for the test data\n",
    "predictions = model.predict(X_test)\n",
    "\n",
    "# Get the index of the largest probability (i.e. the predicted class)\n",
    "predicted_classes = np.argmax(predictions, axis=1)\n",
    "true_classes = np.argmax(y_test, axis=1)\n",
    "misclassified_indices = np.where(predicted_classes != true_classes)[0]\n",
    "\n",
    "# Get the misclassified samples themselves\n",
    "misclassified_samples = X_test[misclassified_indices]\n",
    "misclassified_labels = np.argmax(y_test[misclassified_indices], axis=1)\n",
    "\n",
    "# Pick 9 random misclassified samples\n",
    "random_indices = np.random.choice(len(misclassified_indices), 9, replace=False)\n",
    "\n",
    "fig, axes = plt.subplots(3, 3, figsize=(6, 6))\n",
    "for i, ax in enumerate(axes.flat):\n",
    "    ax.imshow(misclassified_samples[random_indices[i]].reshape(8, 8), cmap=plt.cm.gray_r, interpolation='nearest')\n",
    "    ax.set_title(f\"Pred: {predicted_classes[misclassified_indices[random_indices[i]]]}, Real: {misclassified_labels[random_indices[i]]}\")\n",
    "\n",
    "    # Removing axis labels\n",
    "    ax.set_xticks([])\n",
    "    ax.set_yticks([])\n",
    "    \n",
    "plt.show()"
   ]
  },
  {
   "cell_type": "markdown",
   "metadata": {
    "collapsed": false
   },
   "source": [
    "What do you think? Would you have made the same mistakes as the model? Determining whether the mistakes are \"understandable\" is a rough way of seeing if you could improve the model further, or if this is the best you can do with the data you have."
   ]
  },
  {
   "cell_type": "markdown",
   "metadata": {},
   "source": [
    "### b) Exercises: Impact of the Optimizer\n",
    "\n",
    "In this section, you will play around with the optimizer and see how it affects the performance of the model. We will start with the standard SGD optimizer, and then we will look at more advanced optimizers.\n",
    "\n",
    "1. Try decreasing the learning rate of the SGD optimizer by a factor of 10, or 100. What do you observe?\n",
    "2. Try increasing the learning rate of the SGD optimizer. What happens?\n",
    "3. The SGD optimizer has a momentum parameter. In a nutshell, this parameter controls how much the gradient from the previous step affects the current step. Try enabling momentum in the SGD optimizer with a value of 0.9. What happens?\n",
    "  \n",
    "**Notes**: \n",
    "\n",
    "The keras API documentation is available at:\n",
    "\n",
    "https://www.tensorflow.org/api_docs/python/tf/keras\n",
    "\n",
    "It is also possible to learn more about the parameters of a class by using the question mark: type and evaluate:\n",
    "\n",
    "```python\n",
    "optimizers.SGD?\n",
    "```\n",
    "\n",
    "in a jupyter notebook cell.\n",
    "\n",
    "It is also possible to type the beginning of a function call / constructor and type \"shift-tab\" after the opening paren:\n",
    "\n",
    "```python\n",
    "optimizers.SGD(<shift-tab>\n",
    "```"
   ]
  },
  {
   "cell_type": "code",
   "execution_count": 58,
   "metadata": {},
   "outputs": [
    {
     "name": "stdout",
     "output_type": "stream",
     "text": [
      "Model: \"sequential_1\"\n",
      "_________________________________________________________________\n",
      " Layer (type)                Output Shape              Param #   \n",
      "=================================================================\n",
      " dense_3 (Dense)             (None, 64)                4160      \n",
      "                                                                 \n",
      " dense_4 (Dense)             (None, 64)                4160      \n",
      "                                                                 \n",
      " dense_5 (Dense)             (None, 10)                650       \n",
      "                                                                 \n",
      "=================================================================\n",
      "Total params: 8,970\n",
      "Trainable params: 8,970\n",
      "Non-trainable params: 0\n",
      "_________________________________________________________________\n"
     ]
    },
    {
     "ename": "NameError",
     "evalue": "name 'SGD' is not defined",
     "output_type": "error",
     "traceback": [
      "\u001b[1;31m---------------------------------------------------------------------------\u001b[0m",
      "\u001b[1;31mNameError\u001b[0m                                 Traceback (most recent call last)",
      "Cell \u001b[1;32mIn[58], line 13\u001b[0m\n\u001b[0;32m      7\u001b[0m model\u001b[38;5;241m.\u001b[39madd(Dense(\u001b[38;5;241m10\u001b[39m, activation\u001b[38;5;241m=\u001b[39m\u001b[38;5;124m'\u001b[39m\u001b[38;5;124msoftmax\u001b[39m\u001b[38;5;124m'\u001b[39m)) \n\u001b[0;32m      9\u001b[0m model\u001b[38;5;241m.\u001b[39msummary()\n\u001b[0;32m     11\u001b[0m model\u001b[38;5;241m.\u001b[39mcompile(\n\u001b[0;32m     12\u001b[0m     loss\u001b[38;5;241m=\u001b[39m\u001b[38;5;124m'\u001b[39m\u001b[38;5;124mcategorical_crossentropy\u001b[39m\u001b[38;5;124m'\u001b[39m, \n\u001b[1;32m---> 13\u001b[0m     optimizer\u001b[38;5;241m=\u001b[39m\u001b[43mSGD\u001b[49m(learning_rate\u001b[38;5;241m=\u001b[39m\u001b[38;5;241m0.1\u001b[39m), \u001b[38;5;66;03m# changed learning speed from 1 to 0.1\u001b[39;00m\n\u001b[0;32m     14\u001b[0m     metrics\u001b[38;5;241m=\u001b[39m[\u001b[38;5;124m'\u001b[39m\u001b[38;5;124maccuracy\u001b[39m\u001b[38;5;124m'\u001b[39m] \n\u001b[0;32m     15\u001b[0m )\n\u001b[0;32m     16\u001b[0m history1 \u001b[38;5;241m=\u001b[39m model\u001b[38;5;241m.\u001b[39mfit(X_train,y_train, epochs\u001b[38;5;241m=\u001b[39m\u001b[38;5;241m15\u001b[39m, batch_size\u001b[38;5;241m=\u001b[39m\u001b[38;5;241m32\u001b[39m)\n",
      "\u001b[1;31mNameError\u001b[0m: name 'SGD' is not defined"
     ]
    }
   ],
   "source": [
    "# Decrease learning speed by a factor of 10\n",
    "\n",
    "model = Sequential()\n",
    "\n",
    "model.add(Dense(64, activation='relu', input_shape=(64,))) \n",
    "model.add(Dense(64, activation='relu')) \n",
    "model.add(Dense(10, activation='softmax')) \n",
    "\n",
    "model.summary()\n",
    "\n",
    "model.compile(\n",
    "    loss='categorical_crossentropy', \n",
    "    optimizer=SGD(learning_rate=0.1), # changed learning speed from 1 to 0.1\n",
    "    metrics=['accuracy'] \n",
    ")\n",
    "history1 = model.fit(X_train,y_train, epochs=15, batch_size=32)"
   ]
  },
  {
   "cell_type": "code",
   "execution_count": null,
   "metadata": {},
   "outputs": [
    {
     "name": "stdout",
     "output_type": "stream",
     "text": [
      "Model: \"sequential_12\"\n",
      "_________________________________________________________________\n",
      " Layer (type)                Output Shape              Param #   \n",
      "=================================================================\n",
      " dense_36 (Dense)            (None, 64)                4160      \n",
      "                                                                 \n",
      " dense_37 (Dense)            (None, 64)                4160      \n",
      "                                                                 \n",
      " dense_38 (Dense)            (None, 10)                650       \n",
      "                                                                 \n",
      "=================================================================\n",
      "Total params: 8,970\n",
      "Trainable params: 8,970\n",
      "Non-trainable params: 0\n",
      "_________________________________________________________________\n",
      "Epoch 1/15\n",
      "45/45 [==============================] - 1s 2ms/step - loss: 1.5406 - accuracy: 0.6326\n",
      "Epoch 2/15\n",
      "45/45 [==============================] - 0s 2ms/step - loss: 0.3791 - accuracy: 0.8866\n",
      "Epoch 3/15\n",
      "45/45 [==============================] - 0s 2ms/step - loss: 0.2527 - accuracy: 0.9290\n",
      "Epoch 4/15\n",
      "45/45 [==============================] - 0s 2ms/step - loss: 0.1951 - accuracy: 0.9478\n",
      "Epoch 5/15\n",
      "45/45 [==============================] - 0s 1ms/step - loss: 0.1585 - accuracy: 0.9576\n",
      "Epoch 6/15\n",
      "45/45 [==============================] - 0s 1ms/step - loss: 0.1328 - accuracy: 0.9666\n",
      "Epoch 7/15\n",
      "45/45 [==============================] - 0s 1ms/step - loss: 0.1146 - accuracy: 0.9687\n",
      "Epoch 8/15\n",
      "45/45 [==============================] - 0s 2ms/step - loss: 0.1027 - accuracy: 0.9708\n",
      "Epoch 9/15\n",
      "45/45 [==============================] - 0s 1ms/step - loss: 0.0865 - accuracy: 0.9791\n",
      "Epoch 10/15\n",
      "45/45 [==============================] - 0s 2ms/step - loss: 0.0835 - accuracy: 0.9798\n",
      "Epoch 11/15\n",
      "45/45 [==============================] - 0s 1ms/step - loss: 0.0697 - accuracy: 0.9840\n",
      "Epoch 12/15\n",
      "45/45 [==============================] - 0s 2ms/step - loss: 0.0650 - accuracy: 0.9861\n",
      "Epoch 13/15\n",
      "45/45 [==============================] - 0s 1ms/step - loss: 0.0595 - accuracy: 0.9903\n",
      "Epoch 14/15\n",
      "45/45 [==============================] - 0s 1ms/step - loss: 0.0544 - accuracy: 0.9896\n",
      "Epoch 15/15\n",
      "45/45 [==============================] - 0s 1ms/step - loss: 0.0465 - accuracy: 0.9930\n"
     ]
    }
   ],
   "source": [
    "# Now decrease the learning rate decreased by a factor of 100\n",
    "# with extra time, we get more accuracy\n",
    "\n",
    "model = Sequential()\n",
    "\n",
    "model.add(Dense(64, activation='relu', input_shape=(64,))) \n",
    "model.add(Dense(64, activation='relu')) \n",
    "model.add(Dense(10, activation='softmax')) \n",
    "\n",
    "model.summary()\n",
    "\n",
    "model.compile(\n",
    "    loss='categorical_crossentropy', \n",
    "    optimizer=SGD(learning_rate=0.01), # learning rate changed from 1 to 0.01\n",
    "    metrics=['accuracy'] \n",
    ")\n",
    "history2 = model.fit(X_train,y_train, epochs=15, batch_size=32)"
   ]
  },
  {
   "cell_type": "code",
   "execution_count": null,
   "metadata": {},
   "outputs": [
    {
     "name": "stdout",
     "output_type": "stream",
     "text": [
      "Model: \"sequential_16\"\n",
      "_________________________________________________________________\n",
      " Layer (type)                Output Shape              Param #   \n",
      "=================================================================\n",
      " dense_48 (Dense)            (None, 64)                4160      \n",
      "                                                                 \n",
      " dense_49 (Dense)            (None, 64)                4160      \n",
      "                                                                 \n",
      " dense_50 (Dense)            (None, 10)                650       \n",
      "                                                                 \n",
      "=================================================================\n",
      "Total params: 8,970\n",
      "Trainable params: 8,970\n",
      "Non-trainable params: 0\n",
      "_________________________________________________________________\n",
      "Epoch 1/15\n",
      "45/45 [==============================] - 1s 2ms/step - loss: 1258016.5000 - accuracy: 0.0926\n",
      "Epoch 2/15\n",
      "45/45 [==============================] - 0s 2ms/step - loss: 2.4704 - accuracy: 0.1037\n",
      "Epoch 3/15\n",
      "45/45 [==============================] - 0s 1ms/step - loss: 2.4570 - accuracy: 0.0988\n",
      "Epoch 4/15\n",
      "45/45 [==============================] - 0s 1ms/step - loss: 2.4800 - accuracy: 0.1148\n",
      "Epoch 5/15\n",
      "45/45 [==============================] - 0s 1ms/step - loss: 2.5038 - accuracy: 0.0932\n",
      "Epoch 6/15\n",
      "45/45 [==============================] - 0s 2ms/step - loss: 2.4699 - accuracy: 0.0988\n",
      "Epoch 7/15\n",
      "45/45 [==============================] - 0s 1ms/step - loss: 2.4898 - accuracy: 0.1037\n",
      "Epoch 8/15\n",
      "45/45 [==============================] - 0s 1ms/step - loss: 2.4386 - accuracy: 0.1086\n",
      "Epoch 9/15\n",
      "45/45 [==============================] - 0s 2ms/step - loss: 2.5024 - accuracy: 0.0974\n",
      "Epoch 10/15\n",
      "45/45 [==============================] - 0s 2ms/step - loss: 2.4994 - accuracy: 0.0891\n",
      "Epoch 11/15\n",
      "45/45 [==============================] - 0s 2ms/step - loss: 2.4973 - accuracy: 0.0960\n",
      "Epoch 12/15\n",
      "45/45 [==============================] - 0s 1ms/step - loss: 2.4748 - accuracy: 0.1072\n",
      "Epoch 13/15\n",
      "45/45 [==============================] - 0s 2ms/step - loss: 2.4953 - accuracy: 0.0932\n",
      "Epoch 14/15\n",
      "45/45 [==============================] - 0s 2ms/step - loss: 2.4685 - accuracy: 0.0981\n",
      "Epoch 15/15\n",
      "45/45 [==============================] - 0s 1ms/step - loss: 2.5211 - accuracy: 0.0960\n"
     ]
    }
   ],
   "source": [
    "# Increase learning rate by a factor of 10\n",
    "# here we see a loss of accuracy due to the speed\n",
    "\n",
    "model = Sequential()\n",
    "\n",
    "model.add(Dense(64, activation='relu', input_shape=(64,))) \n",
    "model.add(Dense(64, activation='relu')) \n",
    "model.add(Dense(10, activation='softmax')) \n",
    "\n",
    "model.summary()\n",
    "\n",
    "model.compile(\n",
    "    loss='categorical_crossentropy', \n",
    "    optimizer=SGD(learning_rate=10), \n",
    "    metrics=['accuracy'] \n",
    ")\n",
    "history3 = model.fit(X_train,y_train, epochs=15, batch_size=32)\n"
   ]
  },
  {
   "cell_type": "code",
   "execution_count": 74,
   "metadata": {},
   "outputs": [
    {
     "name": "stdout",
     "output_type": "stream",
     "text": [
      "Model: \"sequential_18\"\n",
      "_________________________________________________________________\n",
      " Layer (type)                Output Shape              Param #   \n",
      "=================================================================\n",
      " dense_54 (Dense)            (None, 64)                4160      \n",
      "                                                                 \n",
      " dense_55 (Dense)            (None, 64)                4160      \n",
      "                                                                 \n",
      " dense_56 (Dense)            (None, 10)                650       \n",
      "                                                                 \n",
      "=================================================================\n",
      "Total params: 8,970\n",
      "Trainable params: 8,970\n",
      "Non-trainable params: 0\n",
      "_________________________________________________________________\n",
      "Epoch 1/15\n",
      "45/45 [==============================] - 0s 2ms/step - loss: 1.3805 - accuracy: 0.6514\n",
      "Epoch 2/15\n",
      "45/45 [==============================] - 0s 1ms/step - loss: 0.2800 - accuracy: 0.9130\n",
      "Epoch 3/15\n",
      "45/45 [==============================] - 0s 1ms/step - loss: 0.1738 - accuracy: 0.9415\n",
      "Epoch 4/15\n",
      "45/45 [==============================] - 0s 1ms/step - loss: 0.1211 - accuracy: 0.9576\n",
      "Epoch 5/15\n",
      "45/45 [==============================] - 0s 2ms/step - loss: 0.1057 - accuracy: 0.9722\n",
      "Epoch 6/15\n",
      "45/45 [==============================] - 0s 2ms/step - loss: 0.0653 - accuracy: 0.9777\n",
      "Epoch 7/15\n",
      "45/45 [==============================] - 0s 2ms/step - loss: 0.0466 - accuracy: 0.9868\n",
      "Epoch 8/15\n",
      "45/45 [==============================] - 0s 2ms/step - loss: 0.0281 - accuracy: 0.9923\n",
      "Epoch 9/15\n",
      "45/45 [==============================] - 0s 1ms/step - loss: 0.0146 - accuracy: 0.9965\n",
      "Epoch 10/15\n",
      "45/45 [==============================] - 0s 2ms/step - loss: 0.0101 - accuracy: 0.9979\n",
      "Epoch 11/15\n",
      "45/45 [==============================] - 0s 2ms/step - loss: 0.0133 - accuracy: 0.9958\n",
      "Epoch 12/15\n",
      "45/45 [==============================] - 0s 1ms/step - loss: 0.0071 - accuracy: 0.9993\n",
      "Epoch 13/15\n",
      "45/45 [==============================] - 0s 2ms/step - loss: 0.0042 - accuracy: 1.0000\n",
      "Epoch 14/15\n",
      "45/45 [==============================] - 0s 1ms/step - loss: 0.0034 - accuracy: 1.0000\n",
      "Epoch 15/15\n",
      "45/45 [==============================] - 0s 1ms/step - loss: 0.0027 - accuracy: 1.0000\n"
     ]
    }
   ],
   "source": [
    "model = Sequential()\n",
    "model.add(Dense(64, activation='relu', input_shape=(64,))) \n",
    "model.add(Dense(64, activation='relu')) \n",
    "model.add(Dense(10, activation='softmax')) \n",
    "\n",
    "model.summary()\n",
    "\n",
    "model.compile(\n",
    "    loss='categorical_crossentropy', \n",
    "    optimizer=SGD(momentum=0.9), # change the momentum to 0.9\n",
    "    metrics=['accuracy'] \n",
    ")\n",
    "history4 = model.fit(X_train,y_train, epochs=15, batch_size=32)"
   ]
  },
  {
   "cell_type": "markdown",
   "metadata": {},
   "source": [
    "Next, let's try a more advanced optimizer. Adam is likely the most popular optimizer for deep learning. It is an adaptive learning rate optimizer, which means that it automatically adjusts the learning rate based on how the training is going. This can be very useful, as it means that we don't need to manually tune the learning rate. Let's see how it performs on our model.\n",
    "\n",
    "\n",
    "1. Replace the SGD optimizer by the Adam optimizer from keras and run it\n",
    "  with the default parameters.\n",
    "\n",
    "2. Add another hidden layer with ReLU activation and 64 neurons. Does it improve the model performance?\n"
   ]
  },
  {
   "cell_type": "code",
   "execution_count": null,
   "metadata": {},
   "outputs": [
    {
     "name": "stdout",
     "output_type": "stream",
     "text": [
      "Model: \"sequential_3\"\n",
      "_________________________________________________________________\n",
      " Layer (type)                Output Shape              Param #   \n",
      "=================================================================\n",
      " dense_9 (Dense)             (None, 64)                4160      \n",
      "                                                                 \n",
      " dense_10 (Dense)            (None, 64)                4160      \n",
      "                                                                 \n",
      " dense_11 (Dense)            (None, 10)                650       \n",
      "                                                                 \n",
      "=================================================================\n",
      "Total params: 8,970\n",
      "Trainable params: 8,970\n",
      "Non-trainable params: 0\n",
      "_________________________________________________________________\n",
      "Epoch 1/15\n",
      "45/45 [==============================] - 0s 2ms/step - loss: 2.1741 - accuracy: 0.4203\n",
      "Epoch 2/15\n",
      "45/45 [==============================] - 0s 2ms/step - loss: 0.4999 - accuracy: 0.8448\n",
      "Epoch 3/15\n",
      "45/45 [==============================] - 0s 2ms/step - loss: 0.2500 - accuracy: 0.9248\n",
      "Epoch 4/15\n",
      "45/45 [==============================] - 0s 2ms/step - loss: 0.1524 - accuracy: 0.9541\n",
      "Epoch 5/15\n",
      "45/45 [==============================] - 0s 2ms/step - loss: 0.1009 - accuracy: 0.9729\n",
      "Epoch 6/15\n",
      "45/45 [==============================] - 0s 2ms/step - loss: 0.0737 - accuracy: 0.9812\n",
      "Epoch 7/15\n",
      "45/45 [==============================] - 0s 2ms/step - loss: 0.0548 - accuracy: 0.9882\n",
      "Epoch 8/15\n",
      "45/45 [==============================] - 0s 2ms/step - loss: 0.0469 - accuracy: 0.9896\n",
      "Epoch 9/15\n",
      "45/45 [==============================] - 0s 2ms/step - loss: 0.0400 - accuracy: 0.9944\n",
      "Epoch 10/15\n",
      "45/45 [==============================] - 0s 2ms/step - loss: 0.0273 - accuracy: 0.9958\n",
      "Epoch 11/15\n",
      "45/45 [==============================] - 0s 2ms/step - loss: 0.0216 - accuracy: 0.9972\n",
      "Epoch 12/15\n",
      "45/45 [==============================] - 0s 1ms/step - loss: 0.0173 - accuracy: 0.9979\n",
      "Epoch 13/15\n",
      "45/45 [==============================] - 0s 2ms/step - loss: 0.0133 - accuracy: 0.9986\n",
      "Epoch 14/15\n",
      "45/45 [==============================] - 0s 2ms/step - loss: 0.0113 - accuracy: 1.0000\n",
      "Epoch 15/15\n",
      "45/45 [==============================] - 0s 1ms/step - loss: 0.0096 - accuracy: 1.0000\n"
     ]
    }
   ],
   "source": [
    "# Using Adam optimizer \n",
    "\n",
    "model = Sequential()\n",
    "model.add(Dense(64, activation='relu', input_shape=(64,))) \n",
    "model.add(Dense(64, activation='relu')) \n",
    "model.add(Dense(10, activation='softmax')) \n",
    "\n",
    "model.summary()\n",
    "\n",
    "model.compile(optimizer= 'adam', loss='categorical_crossentropy', metrics=['accuracy'])\n",
    "\n",
    "history_adam1 = model.fit(X_train,y_train, epochs=15, batch_size=32)"
   ]
  },
  {
   "cell_type": "code",
   "execution_count": 62,
   "metadata": {},
   "outputs": [
    {
     "name": "stdout",
     "output_type": "stream",
     "text": [
      "Model: \"sequential_5\"\n",
      "_________________________________________________________________\n",
      " Layer (type)                Output Shape              Param #   \n",
      "=================================================================\n",
      " dense_16 (Dense)            (None, 64)                4160      \n",
      "                                                                 \n",
      " dense_17 (Dense)            (None, 64)                4160      \n",
      "                                                                 \n",
      " dense_18 (Dense)            (None, 64)                4160      \n",
      "                                                                 \n",
      " dense_19 (Dense)            (None, 10)                650       \n",
      "                                                                 \n",
      "=================================================================\n",
      "Total params: 13,130\n",
      "Trainable params: 13,130\n",
      "Non-trainable params: 0\n",
      "_________________________________________________________________\n",
      "Epoch 1/15\n",
      "45/45 [==============================] - 1s 2ms/step - loss: 1.9457 - accuracy: 0.4753\n",
      "Epoch 2/15\n",
      "45/45 [==============================] - 0s 2ms/step - loss: 0.4418 - accuracy: 0.8796\n",
      "Epoch 3/15\n",
      "45/45 [==============================] - 0s 2ms/step - loss: 0.2273 - accuracy: 0.9297\n",
      "Epoch 4/15\n",
      "45/45 [==============================] - 0s 2ms/step - loss: 0.1401 - accuracy: 0.9638\n",
      "Epoch 5/15\n",
      "45/45 [==============================] - 0s 2ms/step - loss: 0.0945 - accuracy: 0.9756\n",
      "Epoch 6/15\n",
      "45/45 [==============================] - 0s 2ms/step - loss: 0.0717 - accuracy: 0.9833\n",
      "Epoch 7/15\n",
      "45/45 [==============================] - 0s 2ms/step - loss: 0.0472 - accuracy: 0.9923\n",
      "Epoch 8/15\n",
      "45/45 [==============================] - 0s 2ms/step - loss: 0.0403 - accuracy: 0.9930\n",
      "Epoch 9/15\n",
      "45/45 [==============================] - 0s 2ms/step - loss: 0.0264 - accuracy: 0.9958\n",
      "Epoch 10/15\n",
      "45/45 [==============================] - 0s 2ms/step - loss: 0.0189 - accuracy: 0.9972\n",
      "Epoch 11/15\n",
      "45/45 [==============================] - 0s 2ms/step - loss: 0.0235 - accuracy: 0.9944\n",
      "Epoch 12/15\n",
      "45/45 [==============================] - 0s 2ms/step - loss: 0.0162 - accuracy: 0.9972\n",
      "Epoch 13/15\n",
      "45/45 [==============================] - 0s 2ms/step - loss: 0.0092 - accuracy: 0.9993\n",
      "Epoch 14/15\n",
      "45/45 [==============================] - 0s 2ms/step - loss: 0.0068 - accuracy: 1.0000\n",
      "Epoch 15/15\n",
      "45/45 [==============================] - 0s 2ms/step - loss: 0.0051 - accuracy: 1.0000\n"
     ]
    }
   ],
   "source": [
    "# Using Adam optimizer with added hidden layer\n",
    "\n",
    "model = Sequential()\n",
    "\n",
    "model.add(Dense(64, activation='relu', input_shape=(64,))) \n",
    "model.add(Dense(64, activation='relu')) \n",
    "model.add(Dense(64, activation='relu'))\n",
    "model.add(Dense(10, activation='softmax')) \n",
    "\n",
    "model.summary()\n",
    "\n",
    "model.compile(optimizer= 'adam', loss='categorical_crossentropy', metrics=['accuracy'])\n",
    "\n",
    "history_adam2 = model.fit(X_train,y_train, epochs=15, batch_size=32)"
   ]
  },
  {
   "cell_type": "markdown",
   "metadata": {},
   "source": [
    "### Exercises: Forward Pass and Generalization\n",
    "\n",
    "Let's look in more detail at how the model makes predictions on the test set. We will walk through each step of making predictions, examining exactly what's going on.\n",
    "\n",
    "To start, we will apply our model to the test set, and look at what we get as output:"
   ]
  },
  {
   "cell_type": "code",
   "execution_count": 63,
   "metadata": {},
   "outputs": [
    {
     "data": {
      "text/plain": [
       "<tf.Tensor: shape=(5, 10), dtype=float32, numpy=\n",
       "array([[4.31593799e-06, 3.66182178e-07, 1.87604201e-07, 3.06309062e-07,\n",
       "        3.94893541e-05, 3.98634802e-06, 9.99783754e-01, 2.19352003e-09,\n",
       "        1.67467064e-04, 5.21289500e-08],\n",
       "       [2.97995570e-07, 4.38234231e-08, 4.59787053e-08, 1.18775664e-04,\n",
       "        3.36831043e-08, 2.20269826e-03, 4.57105631e-10, 9.73005967e-07,\n",
       "        2.60180877e-06, 9.97674525e-01],\n",
       "       [2.05685483e-10, 3.53626888e-08, 6.07473169e-07, 9.99985993e-01,\n",
       "        1.52953241e-08, 1.71366921e-07, 5.41275069e-09, 9.66447189e-08,\n",
       "        7.09633298e-07, 1.22796137e-05],\n",
       "       [2.47774587e-05, 3.25522298e-04, 3.32795134e-05, 8.63703899e-05,\n",
       "        3.63362720e-03, 1.86100428e-03, 1.64889516e-05, 9.90899026e-01,\n",
       "        1.82886419e-04, 2.93710316e-03],\n",
       "       [1.90868676e-09, 2.44299554e-06, 9.96778429e-01, 2.56873900e-03,\n",
       "        3.21409573e-07, 4.48597248e-09, 2.18644826e-04, 4.33834622e-08,\n",
       "        4.30995657e-04, 3.56365973e-07]], dtype=float32)>"
      ]
     },
     "execution_count": 63,
     "metadata": {},
     "output_type": "execute_result"
    }
   ],
   "source": [
    "predictions_tf = model(X_test)\n",
    "predictions_tf[:5]"
   ]
  },
  {
   "cell_type": "code",
   "execution_count": 64,
   "metadata": {},
   "outputs": [
    {
     "data": {
      "text/plain": [
       "(tensorflow.python.framework.ops.EagerTensor, TensorShape([360, 10]))"
      ]
     },
     "execution_count": 64,
     "metadata": {},
     "output_type": "execute_result"
    }
   ],
   "source": [
    "type(predictions_tf), predictions_tf.shape"
   ]
  },
  {
   "cell_type": "markdown",
   "metadata": {},
   "source": [
    "The raw output of the model is a tensor of shape `(360, 10)`. This means that we have 360 samples, and for each sample we have 10 values. Each of these values represents the probability that the sample belongs to a given class. This means that we have 10 probabilities for each sample, and the sum of these probabilities is 1. We can confirm this by summing the probabilities for each sample:"
   ]
  },
  {
   "cell_type": "code",
   "execution_count": 65,
   "metadata": {},
   "outputs": [
    {
     "data": {
      "text/plain": [
       "<tf.Tensor: shape=(5,), dtype=float32, numpy=\n",
       "array([0.99999994, 1.        , 0.99999994, 1.0000001 , 0.99999994],\n",
       "      dtype=float32)>"
      ]
     },
     "execution_count": 65,
     "metadata": {},
     "output_type": "execute_result"
    }
   ],
   "source": [
    "import tensorflow as tf\n",
    "\n",
    "tf.reduce_sum(predictions_tf, axis=1)[:5]"
   ]
  },
  {
   "cell_type": "markdown",
   "metadata": {
    "collapsed": false
   },
   "source": [
    "...okay, there might be a small rounding error here and there. This is to do with how floating point numbers are represented in computers, and it's not something we need to worry about for now."
   ]
  },
  {
   "cell_type": "markdown",
   "metadata": {},
   "source": [
    "We can also extract the label with the highest probability using the tensorflow API:"
   ]
  },
  {
   "cell_type": "code",
   "execution_count": 66,
   "metadata": {},
   "outputs": [
    {
     "data": {
      "text/plain": [
       "<tf.Tensor: shape=(5,), dtype=int64, numpy=array([6, 9, 3, 7, 2], dtype=int64)>"
      ]
     },
     "execution_count": 66,
     "metadata": {},
     "output_type": "execute_result"
    }
   ],
   "source": [
    "predicted_labels_tf = tf.argmax(predictions_tf, axis=1)\n",
    "predicted_labels_tf[:5]"
   ]
  },
  {
   "cell_type": "markdown",
   "metadata": {
    "collapsed": false
   },
   "source": [
    "One helpful aspect of this approach is that we don't just get the prediction, but also a sense of how confident the model is in its prediction. To see this in practice, let's take a look at some of the predictions the model is highly confident about (i.e. a lot of the probability mass is on one class):"
   ]
  },
  {
   "cell_type": "code",
   "execution_count": 67,
   "metadata": {
    "collapsed": false
   },
   "outputs": [
    {
     "data": {
      "image/png": "[encoded data removed]",
      "text/plain": [
       "<Figure size 600x600 with 9 Axes>"
      ]
     },
     "metadata": {},
     "output_type": "display_data"
    }
   ],
   "source": [
    "# Get the values corresponding to the predicted labels for each sample\n",
    "predicted_values_tf = tf.reduce_max(predictions_tf, axis=1)\n",
    "\n",
    "# Get the indices of the samples with the highest predicted values\n",
    "most_confident_indices_tf = tf.argsort(predicted_values_tf, direction='DESCENDING').numpy()[:9]\n",
    "\n",
    "# Get the 9 most confident samples\n",
    "most_confident_samples_tf = X_test[most_confident_indices_tf]\n",
    "\n",
    "# Get the true labels for the 9 most confident samples\n",
    "most_confident_labels_tf = np.argmax(y_test[most_confident_indices_tf], axis=1)\n",
    "\n",
    "# Plot the 9 most confident samples\n",
    "fig, axes = plt.subplots(3, 3, figsize=(6, 6))\n",
    "\n",
    "for i, ax in enumerate(axes.flat):\n",
    "    ax.imshow(most_confident_samples_tf[i].reshape(8, 8), cmap=plt.cm.gray_r, interpolation='nearest')\n",
    "    ax.set_title(f\"{most_confident_labels_tf[i]}\")\n",
    "\n",
    "    # Removing axis labels\n",
    "    ax.set_xticks([])\n",
    "    ax.set_yticks([])\n",
    "    \n",
    "plt.show()"
   ]
  },
  {
   "cell_type": "markdown",
   "metadata": {},
   "source": [
    "## Impact of Initialization\n",
    "\n",
    "Let's study the impact of a bad initialization when training\n",
    "a deep feed forward network.\n",
    "\n",
    "By default, Keras dense layers use the \"Glorot Uniform\" initialization\n",
    "strategy to initialize the weight matrices:\n",
    "\n",
    "- each weight coefficient is randomly sampled from [-scale, scale]\n",
    "- scale is proportional to $\\frac{1}{\\sqrt{n_{in} + n_{out}}}$\n",
    "\n",
    "This strategy is known to work well to initialize deep neural networks\n",
    "with \"tanh\" or \"relu\" activation functions and then trained with\n",
    "standard SGD.\n",
    "\n",
    "To assess the impact of initialization let us plug an alternative init\n",
    "scheme into a 2 hidden layers networks with \"tanh\" activations.\n",
    "For the sake of the example let's use normal distributed weights\n",
    "with a manually adjustable scale (standard deviation) and see the\n",
    "impact the scale value:"
   ]
  },
  {
   "cell_type": "code",
   "execution_count": null,
   "metadata": {},
   "outputs": [],
   "source": [
    "from tensorflow.keras import initializers\n",
    "from tensorflow.keras import optimizers\n",
    "\n",
    "input_dim = 64\n",
    "hidden_dim = 64\n",
    "output_dim = 10\n",
    "\n",
    "normal_init = initializers.TruncatedNormal(stddev=0.01, seed=42)\n",
    "\n",
    "model = Sequential()\n",
    "model.add(Dense(hidden_dim, input_dim=input_dim, activation=\"tanh\",\n",
    "                kernel_initializer=normal_init))\n",
    "model.add(Dense(hidden_dim, activation=\"tanh\",\n",
    "                kernel_initializer=normal_init))\n",
    "model.add(Dense(output_dim, activation=\"softmax\",\n",
    "                kernel_initializer=normal_init))\n",
    "\n",
    "model.compile(optimizer=optimizers.SGD(learning_rate=0.1),\n",
    "              loss='categorical_crossentropy', metrics=['accuracy'])"
   ]
  },
  {
   "cell_type": "code",
   "execution_count": 69,
   "metadata": {},
   "outputs": [
    {
     "data": {
      "text/plain": [
       "[<keras.layers.core.dense.Dense at 0x22f24cb5100>,\n",
       " <keras.layers.core.dense.Dense at 0x22f24cb5190>,\n",
       " <keras.layers.core.dense.Dense at 0x22f28c5b730>]"
      ]
     },
     "execution_count": 69,
     "metadata": {},
     "output_type": "execute_result"
    }
   ],
   "source": [
    "model.layers"
   ]
  },
  {
   "cell_type": "markdown",
   "metadata": {},
   "source": [
    "Let's have a look at the parameters of the first layer after initialization but before any training has happened:"
   ]
  },
  {
   "cell_type": "code",
   "execution_count": 70,
   "metadata": {},
   "outputs": [
    {
     "data": {
      "text/plain": [
       "[<tf.Variable 'dense_20/kernel:0' shape=(64, 64) dtype=float32, numpy=\n",
       " array([[ 0.00015817, -0.01590087,  0.00103594, ...,  0.00962818,\n",
       "          0.00624957,  0.00994726],\n",
       "        [ 0.0081879 ,  0.00756818, -0.00668142, ...,  0.01084459,\n",
       "         -0.00317478, -0.00549116],\n",
       "        [-0.00086618, -0.00287623,  0.00391693, ...,  0.00064558,\n",
       "         -0.00420471,  0.00174566],\n",
       "        ...,\n",
       "        [-0.0029006 , -0.0091218 ,  0.00804327, ..., -0.01407086,\n",
       "          0.00952832, -0.01348555],\n",
       "        [ 0.00375078,  0.00967842,  0.00098119, ..., -0.00413454,\n",
       "          0.01695471,  0.00025196],\n",
       "        [ 0.00459809,  0.01223094, -0.00213172, ...,  0.01246831,\n",
       "         -0.00714749, -0.00868595]], dtype=float32)>,\n",
       " <tf.Variable 'dense_20/bias:0' shape=(64,) dtype=float32, numpy=\n",
       " array([0., 0., 0., 0., 0., 0., 0., 0., 0., 0., 0., 0., 0., 0., 0., 0., 0.,\n",
       "        0., 0., 0., 0., 0., 0., 0., 0., 0., 0., 0., 0., 0., 0., 0., 0., 0.,\n",
       "        0., 0., 0., 0., 0., 0., 0., 0., 0., 0., 0., 0., 0., 0., 0., 0., 0.,\n",
       "        0., 0., 0., 0., 0., 0., 0., 0., 0., 0., 0., 0., 0.], dtype=float32)>]"
      ]
     },
     "execution_count": 70,
     "metadata": {},
     "output_type": "execute_result"
    }
   ],
   "source": [
    "model.layers[0].weights"
   ]
  },
  {
   "cell_type": "code",
   "execution_count": 71,
   "metadata": {},
   "outputs": [
    {
     "data": {
      "text/plain": [
       "array([[ 0.00015817, -0.01590087,  0.00103594, ...,  0.00962818,\n",
       "         0.00624957,  0.00994726],\n",
       "       [ 0.0081879 ,  0.00756818, -0.00668142, ...,  0.01084459,\n",
       "        -0.00317478, -0.00549116],\n",
       "       [-0.00086618, -0.00287623,  0.00391693, ...,  0.00064558,\n",
       "        -0.00420471,  0.00174566],\n",
       "       ...,\n",
       "       [-0.0029006 , -0.0091218 ,  0.00804327, ..., -0.01407086,\n",
       "         0.00952832, -0.01348555],\n",
       "       [ 0.00375078,  0.00967842,  0.00098119, ..., -0.00413454,\n",
       "         0.01695471,  0.00025196],\n",
       "       [ 0.00459809,  0.01223094, -0.00213172, ...,  0.01246831,\n",
       "        -0.00714749, -0.00868595]], dtype=float32)"
      ]
     },
     "execution_count": 71,
     "metadata": {},
     "output_type": "execute_result"
    }
   ],
   "source": [
    "w = model.layers[0].weights[0].numpy()\n",
    "w"
   ]
  },
  {
   "cell_type": "code",
   "execution_count": 72,
   "metadata": {},
   "outputs": [
    {
     "data": {
      "text/plain": [
       "0.008835949"
      ]
     },
     "execution_count": 72,
     "metadata": {},
     "output_type": "execute_result"
    }
   ],
   "source": [
    "w.std()"
   ]
  },
  {
   "cell_type": "code",
   "execution_count": 73,
   "metadata": {},
   "outputs": [
    {
     "data": {
      "text/plain": [
       "array([0., 0., 0., 0., 0., 0., 0., 0., 0., 0., 0., 0., 0., 0., 0., 0., 0.,\n",
       "       0., 0., 0., 0., 0., 0., 0., 0., 0., 0., 0., 0., 0., 0., 0., 0., 0.,\n",
       "       0., 0., 0., 0., 0., 0., 0., 0., 0., 0., 0., 0., 0., 0., 0., 0., 0.,\n",
       "       0., 0., 0., 0., 0., 0., 0., 0., 0., 0., 0., 0., 0.], dtype=float32)"
      ]
     },
     "execution_count": 73,
     "metadata": {},
     "output_type": "execute_result"
    }
   ],
   "source": [
    "b = model.layers[0].weights[1].numpy()\n",
    "b"
   ]
  },
  {
   "cell_type": "code",
   "execution_count": 74,
   "metadata": {},
   "outputs": [
    {
     "name": "stdout",
     "output_type": "stream",
     "text": [
      "Epoch 1/15\n",
      "45/45 [==============================] - 1s 2ms/step - loss: 2.2863 - accuracy: 0.2136\n",
      "Epoch 2/15\n",
      "45/45 [==============================] - 0s 2ms/step - loss: 1.7397 - accuracy: 0.4509\n",
      "Epoch 3/15\n",
      "45/45 [==============================] - 0s 2ms/step - loss: 1.0329 - accuracy: 0.7001\n",
      "Epoch 4/15\n",
      "45/45 [==============================] - 0s 2ms/step - loss: 0.5212 - accuracy: 0.8754\n",
      "Epoch 5/15\n",
      "45/45 [==============================] - 0s 3ms/step - loss: 0.3232 - accuracy: 0.9158\n",
      "Epoch 6/15\n",
      "45/45 [==============================] - 0s 2ms/step - loss: 0.1968 - accuracy: 0.9534\n",
      "Epoch 7/15\n",
      "45/45 [==============================] - 0s 2ms/step - loss: 0.1867 - accuracy: 0.9492\n",
      "Epoch 8/15\n",
      "45/45 [==============================] - 0s 4ms/step - loss: 0.1148 - accuracy: 0.9791\n",
      "Epoch 9/15\n",
      "45/45 [==============================] - 0s 2ms/step - loss: 0.0949 - accuracy: 0.9777\n",
      "Epoch 10/15\n",
      "45/45 [==============================] - 0s 2ms/step - loss: 0.0891 - accuracy: 0.9805\n",
      "Epoch 11/15\n",
      "45/45 [==============================] - 0s 2ms/step - loss: 0.0730 - accuracy: 0.9882\n",
      "Epoch 12/15\n",
      "45/45 [==============================] - 0s 2ms/step - loss: 0.0576 - accuracy: 0.9889\n",
      "Epoch 13/15\n",
      "45/45 [==============================] - 0s 1ms/step - loss: 0.0698 - accuracy: 0.9861\n",
      "Epoch 14/15\n",
      "45/45 [==============================] - 0s 1ms/step - loss: 0.0595 - accuracy: 0.9889\n",
      "Epoch 15/15\n",
      "45/45 [==============================] - 0s 1ms/step - loss: 0.0391 - accuracy: 0.9958\n"
     ]
    },
    {
     "data": {
      "image/png": "[encoded data removed]",
      "text/plain": [
       "<Figure size 1200x400 with 1 Axes>"
      ]
     },
     "metadata": {},
     "output_type": "display_data"
    }
   ],
   "source": [
    "history = model.fit(X_train, y_train, epochs=15, batch_size=32)\n",
    "\n",
    "plt.figure(figsize=(12, 4))\n",
    "plt.plot(history.history['loss'], label=\"Truncated Normal init\")\n",
    "plt.legend();"
   ]
  },
  {
   "cell_type": "markdown",
   "metadata": {},
   "source": [
    "Once the model has been fit, the weights have been updated and notably the biases are no longer 0:"
   ]
  },
  {
   "cell_type": "code",
   "execution_count": 75,
   "metadata": {},
   "outputs": [
    {
     "data": {
      "text/plain": [
       "[<tf.Variable 'dense_20/kernel:0' shape=(64, 64) dtype=float32, numpy=\n",
       " array([[ 1.58170762e-04, -1.59008689e-02,  1.03594456e-03, ...,\n",
       "          9.62818228e-03,  6.24957308e-03,  9.94726177e-03],\n",
       "        [ 1.36914868e-02, -1.38564091e-02, -6.46120450e-03, ...,\n",
       "          3.64983338e-03, -1.68431345e-02, -1.43197505e-02],\n",
       "        [ 5.00144325e-02, -5.43826222e-02, -6.42216951e-02, ...,\n",
       "         -8.01511749e-04, -8.71479809e-02,  8.73345807e-02],\n",
       "        ...,\n",
       "        [ 1.72683913e-02, -2.75329426e-02,  9.65078697e-02, ...,\n",
       "         -9.90215018e-02,  4.75010015e-02, -1.78086236e-01],\n",
       "        [ 2.22649761e-02, -4.02573422e-02,  1.00478284e-01, ...,\n",
       "         -7.89300650e-02, -5.89941349e-03, -8.85489956e-02],\n",
       "        [ 2.08843406e-02, -1.25810329e-04,  4.70021851e-02, ...,\n",
       "          3.42847407e-02,  4.14605588e-02, -4.37614135e-02]], dtype=float32)>,\n",
       " <tf.Variable 'dense_20/bias:0' shape=(64,) dtype=float32, numpy=\n",
       " array([-5.2984578e-05, -2.2059190e-03,  1.2882691e-03, -3.7777144e-03,\n",
       "        -1.6404863e-03, -2.5551333e-03, -3.0409822e-03, -7.7645946e-04,\n",
       "         1.2595663e-03, -1.9966124e-03, -2.5536132e-03,  6.2485645e-03,\n",
       "         1.8819163e-03, -9.8190072e-04,  1.4797244e-03, -7.7887939e-04,\n",
       "        -3.0043018e-03,  1.0609472e-03, -3.7734287e-03, -2.0106512e-03,\n",
       "         2.3611955e-04, -1.3535470e-03,  2.0794298e-03,  1.1396678e-03,\n",
       "         4.2163157e-03,  9.7173452e-04, -3.3827287e-03,  1.5145375e-03,\n",
       "        -9.6984010e-04,  9.5744251e-04,  3.8031838e-03, -2.3721729e-04,\n",
       "         1.7419235e-03,  1.5635961e-03, -3.0069140e-04, -1.9895167e-03,\n",
       "        -1.2275528e-03, -1.1943103e-03, -1.7638585e-03, -1.7803389e-04,\n",
       "         1.6683012e-03, -7.3051819e-04,  1.6195606e-03,  9.8914548e-04,\n",
       "         6.4782699e-04, -1.3442341e-03,  1.9868927e-03, -1.3333807e-03,\n",
       "         9.2663249e-04,  1.0407455e-03,  2.6353700e-03, -1.0273407e-03,\n",
       "        -4.6052583e-03, -4.6061603e-03, -4.4653900e-03, -3.3798837e-03,\n",
       "         1.4131663e-03,  1.4232971e-03,  2.8500326e-03, -1.0900042e-03,\n",
       "         2.3165101e-03,  1.3653892e-03, -2.1051988e-03,  1.7792293e-03],\n",
       "       dtype=float32)>]"
      ]
     },
     "execution_count": 75,
     "metadata": {},
     "output_type": "execute_result"
    }
   ],
   "source": [
    "model.layers[0].weights"
   ]
  },
  {
   "cell_type": "markdown",
   "metadata": {},
   "source": [
    "#### Questions:\n",
    "\n",
    "- Try the following initialization schemes and see whether\n",
    "  the SGD algorithm can successfully train the network or\n",
    "  not:\n",
    "  \n",
    "  - a very small e.g. `stddev=1e-3`\n",
    "  - a larger scale e.g. `stddev=1` or `10`\n",
    "  - initialize all weights to 0 (constant initialization)\n",
    "  \n",
    "- What do you observe? Can you find an explanation for those\n",
    "  outcomes?\n",
    "\n",
    "- Are more advanced solvers such as SGD with momentum or Adam able\n",
    "  to deal better with such bad initializations?"
   ]
  },
  {
   "cell_type": "code",
   "execution_count": null,
   "metadata": {},
   "outputs": [
    {
     "name": "stdout",
     "output_type": "stream",
     "text": [
      "Training model with sttdev =  0.001\n",
      "Epoch 1/15\n",
      "45/45 [==============================] - 0s 2ms/step - loss: 2.3036 - accuracy: 0.0974\n",
      "Epoch 2/15\n",
      "45/45 [==============================] - 0s 2ms/step - loss: 2.3036 - accuracy: 0.0912\n",
      "Epoch 3/15\n",
      "45/45 [==============================] - 0s 2ms/step - loss: 2.3031 - accuracy: 0.0960\n",
      "Epoch 4/15\n",
      "45/45 [==============================] - 0s 2ms/step - loss: 2.3031 - accuracy: 0.1072\n",
      "Epoch 5/15\n",
      "45/45 [==============================] - 0s 2ms/step - loss: 2.3030 - accuracy: 0.1002\n",
      "Epoch 6/15\n",
      "45/45 [==============================] - 0s 2ms/step - loss: 2.3031 - accuracy: 0.1072\n",
      "Epoch 7/15\n",
      "45/45 [==============================] - 0s 2ms/step - loss: 2.3031 - accuracy: 0.1072\n",
      "Epoch 8/15\n",
      "45/45 [==============================] - 0s 2ms/step - loss: 2.3030 - accuracy: 0.0981\n",
      "Epoch 9/15\n",
      "45/45 [==============================] - 0s 2ms/step - loss: 2.3017 - accuracy: 0.1072\n",
      "Epoch 10/15\n",
      "45/45 [==============================] - 0s 2ms/step - loss: 2.1229 - accuracy: 0.1816\n",
      "Epoch 11/15\n",
      "45/45 [==============================] - 0s 2ms/step - loss: 1.7958 - accuracy: 0.1942\n",
      "Epoch 12/15\n",
      "45/45 [==============================] - 0s 2ms/step - loss: 1.6295 - accuracy: 0.2756\n",
      "Epoch 13/15\n",
      "45/45 [==============================] - 0s 2ms/step - loss: 1.4512 - accuracy: 0.3076\n",
      "Epoch 14/15\n",
      "45/45 [==============================] - 0s 2ms/step - loss: 1.2355 - accuracy: 0.4816\n",
      "Epoch 15/15\n",
      "45/45 [==============================] - 0s 3ms/step - loss: 0.9597 - accuracy: 0.6305\n",
      " Training model with zero initializers  \n",
      "\n"
     ]
    }
   ],
   "source": [
    "# Define the dimensions\n",
    "input_dim = 64\n",
    "hidden_dim=64\n",
    "output_dim = 10\n",
    "\n",
    "#Define the standard deviations for the initialization schemes\n",
    "stddev = 1e-3\n",
    "\n",
    "print(\"Training model with sttdev = \", stddev)\n",
    "\n",
    "normal_init = initializers.TruncatedNormal(stddev=stddev, seed=42)\n",
    "\n",
    "model = Sequential()\n",
    "model.add(Dense(hidden_dim, input_dim=input_dim, activation=\"tanh\", kernel_initializer=normal_init))\n",
    "model.add(Dense(hidden_dim, activation=\"tanh\", kernel_initializer=normal_init))\n",
    "model.add(Dense(output_dim, activation=\"softmax\", kernel_initializer=normal_init))\n",
    "\n",
    "model.compile(optimizer=optimizers.SGD(learning_rate=0.1),loss='categorical_crossentropy', metrics=['accuracy'])\n",
    "\n",
    "history = model.fit(X_train, y_train, epochs=15, batch_size=32)\n",
    "\n",
    "print(\" Training model with zero initializers  \\n\")\n",
    "zero_init = initializers.Zeros()"
   ]
  },
  {
   "cell_type": "code",
   "execution_count": 89,
   "metadata": {},
   "outputs": [
    {
     "name": "stdout",
     "output_type": "stream",
     "text": [
      "Training model with sttdev =  1\n",
      "Epoch 1/15\n",
      "45/45 [==============================] - 0s 2ms/step - loss: 3.7414 - accuracy: 0.3180\n",
      "Epoch 2/15\n",
      "45/45 [==============================] - 0s 2ms/step - loss: 1.7915 - accuracy: 0.4788\n",
      "Epoch 3/15\n",
      "45/45 [==============================] - 0s 2ms/step - loss: 1.2583 - accuracy: 0.6082\n",
      "Epoch 4/15\n",
      "45/45 [==============================] - 0s 2ms/step - loss: 1.1122 - accuracy: 0.6479\n",
      "Epoch 5/15\n",
      "45/45 [==============================] - 0s 2ms/step - loss: 1.0335 - accuracy: 0.6548\n",
      "Epoch 6/15\n",
      "45/45 [==============================] - 0s 2ms/step - loss: 0.9365 - accuracy: 0.6875\n",
      "Epoch 7/15\n",
      "45/45 [==============================] - 0s 2ms/step - loss: 0.9187 - accuracy: 0.6973\n",
      "Epoch 8/15\n",
      "45/45 [==============================] - 0s 2ms/step - loss: 0.7292 - accuracy: 0.7606\n",
      "Epoch 9/15\n",
      "45/45 [==============================] - 0s 1ms/step - loss: 0.6973 - accuracy: 0.7752\n",
      "Epoch 10/15\n",
      "45/45 [==============================] - 0s 3ms/step - loss: 0.6568 - accuracy: 0.8045\n",
      "Epoch 11/15\n",
      "45/45 [==============================] - 0s 1ms/step - loss: 0.6262 - accuracy: 0.7982\n",
      "Epoch 12/15\n",
      "45/45 [==============================] - 0s 1ms/step - loss: 0.6313 - accuracy: 0.8024\n",
      "Epoch 13/15\n",
      "45/45 [==============================] - 0s 1ms/step - loss: 0.5991 - accuracy: 0.8184\n",
      "Epoch 14/15\n",
      "45/45 [==============================] - 0s 2ms/step - loss: 0.6021 - accuracy: 0.8107\n",
      "Epoch 15/15\n",
      "45/45 [==============================] - 0s 2ms/step - loss: 0.5627 - accuracy: 0.8184\n",
      " Training model with zero initializers  \n",
      "\n"
     ]
    }
   ],
   "source": [
    "# Define the dimensions\n",
    "input_dim = 64\n",
    "hidden_dim=64\n",
    "output_dim = 10\n",
    "\n",
    "#Define the standard deviations for the initialization schemes\n",
    "stddev = 1\n",
    "\n",
    "print(\"Training model with sttdev = \", stddev)\n",
    "    \n",
    "\n",
    "normal_init = initializers.TruncatedNormal(stddev=stddev, seed=42)\n",
    "\n",
    "model = Sequential()\n",
    "model.add(Dense(hidden_dim, input_dim=input_dim, activation=\"tanh\", kernel_initializer=normal_init))\n",
    "model.add(Dense(hidden_dim, activation=\"tanh\", kernel_initializer=normal_init))\n",
    "model.add(Dense(output_dim, activation=\"softmax\", kernel_initializer=normal_init))\n",
    "\n",
    "model.compile(optimizer=optimizers.SGD(learning_rate=0.1),loss='categorical_crossentropy', metrics=['accuracy'])\n",
    "\n",
    "history = model.fit(X_train, y_train, epochs=15, batch_size=32)\n",
    "\n",
    "print(\" Training model with zero initializers  \\n\")\n",
    "zero_init = initializers.Zeros()"
   ]
  },
  {
   "cell_type": "code",
   "execution_count": 91,
   "metadata": {},
   "outputs": [
    {
     "name": "stdout",
     "output_type": "stream",
     "text": [
      "Training model with sttdev =  10\n",
      "Epoch 1/15\n",
      "45/45 [==============================] - 0s 2ms/step - loss: 76.7514 - accuracy: 0.1294\n",
      "Epoch 2/15\n",
      "45/45 [==============================] - 0s 2ms/step - loss: 62.7514 - accuracy: 0.1287\n",
      "Epoch 3/15\n",
      "45/45 [==============================] - 0s 2ms/step - loss: 42.6289 - accuracy: 0.1552\n",
      "Epoch 4/15\n",
      "45/45 [==============================] - 0s 2ms/step - loss: 42.7964 - accuracy: 0.0946\n",
      "Epoch 5/15\n",
      "45/45 [==============================] - 0s 2ms/step - loss: 36.6615 - accuracy: 0.1225\n",
      "Epoch 6/15\n",
      "45/45 [==============================] - 0s 1ms/step - loss: 30.1941 - accuracy: 0.1580\n",
      "Epoch 7/15\n",
      "45/45 [==============================] - 0s 1ms/step - loss: 24.0129 - accuracy: 0.2171\n",
      "Epoch 8/15\n",
      "45/45 [==============================] - 0s 1ms/step - loss: 20.3551 - accuracy: 0.2255\n",
      "Epoch 9/15\n",
      "45/45 [==============================] - 0s 1ms/step - loss: 26.3650 - accuracy: 0.1531\n",
      "Epoch 10/15\n",
      "45/45 [==============================] - 0s 1ms/step - loss: 21.2766 - accuracy: 0.1580\n",
      "Epoch 11/15\n",
      "45/45 [==============================] - 0s 1ms/step - loss: 17.0816 - accuracy: 0.2046\n",
      "Epoch 12/15\n",
      "45/45 [==============================] - 0s 2ms/step - loss: 13.5229 - accuracy: 0.2143\n",
      "Epoch 13/15\n",
      "45/45 [==============================] - 0s 2ms/step - loss: 11.3081 - accuracy: 0.2199\n",
      "Epoch 14/15\n",
      "45/45 [==============================] - 0s 2ms/step - loss: 10.8377 - accuracy: 0.2610\n",
      "Epoch 15/15\n",
      "45/45 [==============================] - 0s 1ms/step - loss: 10.6535 - accuracy: 0.2241\n",
      " Training model with zero initializers\n"
     ]
    }
   ],
   "source": [
    "# Define the dimensions\n",
    "input_dim = 64\n",
    "hidden_dim=64\n",
    "output_dim = 10\n",
    "\n",
    "#Define the standard deviations for the initialization schemes\n",
    "stddev = 10\n",
    "\n",
    "print(\"Training model with sttdev = \", stddev)\n",
    "    \n",
    "\n",
    "normal_init = initializers.TruncatedNormal(stddev=stddev, seed=42)\n",
    "\n",
    "model = Sequential()\n",
    "model.add(Dense(hidden_dim, input_dim=input_dim, activation=\"tanh\", kernel_initializer=normal_init))\n",
    "model.add(Dense(hidden_dim, activation=\"tanh\", kernel_initializer=normal_init))\n",
    "model.add(Dense(output_dim, activation=\"softmax\", kernel_initializer=normal_init))\n",
    "\n",
    "model.compile(optimizer=optimizers.SGD(learning_rate=0.1),loss='categorical_crossentropy', metrics=['accuracy'])\n",
    "\n",
    "history = model.fit(X_train, y_train, epochs=15, batch_size=32)\n",
    "\n",
    "print(\" Training model with zero initializers\")\n",
    "zero_init = initializers.Zeros()"
   ]
  },
  {
   "cell_type": "markdown",
   "metadata": {},
   "source": [
    "Training Model with Initializer Set to Zero"
   ]
  },
  {
   "cell_type": "code",
   "execution_count": 94,
   "metadata": {},
   "outputs": [
    {
     "name": "stdout",
     "output_type": "stream",
     "text": [
      " Training model with zero initializer  \n",
      "\n",
      "Epoch 1/15\n",
      "45/45 [==============================] - 0s 2ms/step - loss: 2.3035 - accuracy: 0.0974\n",
      "Epoch 2/15\n",
      "45/45 [==============================] - 0s 2ms/step - loss: 2.3033 - accuracy: 0.1072\n",
      "Epoch 3/15\n",
      "45/45 [==============================] - 0s 2ms/step - loss: 2.3033 - accuracy: 0.1072\n",
      "Epoch 4/15\n",
      "45/45 [==============================] - 0s 1ms/step - loss: 2.3031 - accuracy: 0.1072\n",
      "Epoch 5/15\n",
      "45/45 [==============================] - 0s 1ms/step - loss: 2.3031 - accuracy: 0.1072\n",
      "Epoch 6/15\n",
      "45/45 [==============================] - 0s 1ms/step - loss: 2.3030 - accuracy: 0.1009\n",
      "Epoch 7/15\n",
      "45/45 [==============================] - 0s 1ms/step - loss: 2.3031 - accuracy: 0.0988\n",
      "Epoch 8/15\n",
      "45/45 [==============================] - 0s 1ms/step - loss: 2.3031 - accuracy: 0.1072\n",
      "Epoch 9/15\n",
      "45/45 [==============================] - 0s 2ms/step - loss: 2.3032 - accuracy: 0.1044\n",
      "Epoch 10/15\n",
      "45/45 [==============================] - 0s 2ms/step - loss: 2.3032 - accuracy: 0.1072\n",
      "Epoch 11/15\n",
      "45/45 [==============================] - 0s 2ms/step - loss: 2.3033 - accuracy: 0.1037\n",
      "Epoch 12/15\n",
      "45/45 [==============================] - 0s 2ms/step - loss: 2.3030 - accuracy: 0.1072\n",
      "Epoch 13/15\n",
      "45/45 [==============================] - 0s 2ms/step - loss: 2.3031 - accuracy: 0.1058\n",
      "Epoch 14/15\n",
      "45/45 [==============================] - 0s 2ms/step - loss: 2.3033 - accuracy: 0.1072\n",
      "Epoch 15/15\n",
      "45/45 [==============================] - 0s 2ms/step - loss: 2.3033 - accuracy: 0.1030\n"
     ]
    }
   ],
   "source": [
    "# Define the dimensions\n",
    "input_dim = 64\n",
    "hidden_dim=64\n",
    "output_dim = 10\n",
    "\n",
    "print(\" Training model with zero initializer  \\n\")\n",
    "zero_init = initializers.Zeros()\n",
    "\n",
    "model = Sequential()\n",
    "model.add(Dense(hidden_dim, input_dim=input_dim, activation=\"tanh\", kernel_initializer=zero_init))\n",
    "model.add(Dense(hidden_dim, activation=\"tanh\", kernel_initializer=zero_init))\n",
    "model.add(Dense(output_dim, activation=\"softmax\", kernel_initializer=zero_init))\n",
    "\n",
    "model.compile(optimizer=optimizers.SGD(learning_rate=0.1),loss='categorical_crossentropy', metrics=['accuracy'])\n",
    "\n",
    "history = model.fit(X_train, y_train, epochs=15, batch_size=32)\n",
    "\n"
   ]
  },
  {
   "cell_type": "markdown",
   "metadata": {},
   "source": [
    "It seems that initializing the standard deviation too small or too large has a strong negative impact on the performance of the model. Similarly with using the 'Zero' initialization setting. "
   ]
  }
 ],
 "metadata": {
  "file_extension": ".py",
  "kernelspec": {
   "display_name": "dsi_participant",
   "language": "python",
   "name": "python3"
  },
  "language_info": {
   "codemirror_mode": {
    "name": "ipython",
    "version": 3
   },
   "file_extension": ".py",
   "mimetype": "text/x-python",
   "name": "python",
   "nbconvert_exporter": "python",
   "pygments_lexer": "ipython3",
   "version": "3.9.15"
  },
  "mimetype": "text/x-python",
  "name": "python",
  "npconvert_exporter": "python",
  "pygments_lexer": "ipython3",
  "toc": {
   "base_numbering": 1,
   "nav_menu": {},
   "number_sections": true,
   "sideBar": true,
   "skip_h1_title": false,
   "title_cell": "Table of Contents",
   "title_sidebar": "Contents",
   "toc_cell": false,
   "toc_position": {},
   "toc_section_display": true,
   "toc_window_display": false
  },
  "version": 3
 },
 "nbformat": 4,
 "nbformat_minor": 4
}
